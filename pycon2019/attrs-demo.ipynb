{
 "cells": [
  {
   "cell_type": "code",
   "execution_count": 1,
   "metadata": {
    "slideshow": {
     "slide_type": "slide"
    }
   },
   "outputs": [],
   "source": [
    "import attr"
   ]
  },
  {
   "cell_type": "code",
   "execution_count": 2,
   "metadata": {
    "slideshow": {
     "slide_type": "-"
    }
   },
   "outputs": [],
   "source": [
    "@attr.s\n",
    "class UserInfo:\n",
    "    name = attr.ib()\n",
    "    email = attr.ib()\n",
    "    phone = attr.ib()"
   ]
  },
  {
   "cell_type": "code",
   "execution_count": 3,
   "metadata": {
    "slideshow": {
     "slide_type": "-"
    }
   },
   "outputs": [
    {
     "data": {
      "text/plain": [
       "UserInfo(name='Alice', email='alice@example.com', phone='581-555-1234')"
      ]
     },
     "execution_count": 3,
     "metadata": {},
     "output_type": "execute_result"
    }
   ],
   "source": [
    "user = UserInfo(\"Alice\", 'alice@example.com', '581-555-1234')\n",
    "user"
   ]
  },
  {
   "cell_type": "code",
   "execution_count": 4,
   "metadata": {
    "slideshow": {
     "slide_type": "slide"
    }
   },
   "outputs": [],
   "source": [
    "@attr.s\n",
    "class UserInfo:\n",
    "    name: str = attr.ib()\n",
    "    email: str = attr.ib()\n",
    "    phone: str = attr.ib()\n",
    "    creds = attr.ib(default=None)"
   ]
  },
  {
   "cell_type": "code",
   "execution_count": 5,
   "metadata": {},
   "outputs": [
    {
     "data": {
      "text/plain": [
       "False"
      ]
     },
     "execution_count": 5,
     "metadata": {},
     "output_type": "execute_result"
    }
   ],
   "source": [
    "alice = UserInfo(\"Alice\", 'alice@example.com', '581-555-1234')\n",
    "bob = UserInfo(name='Bob', email='bob@example.com', phone='416-555-2814')\n",
    "alice == bob"
   ]
  },
  {
   "cell_type": "code",
   "execution_count": 6,
   "metadata": {
    "slideshow": {
     "slide_type": "slide"
    }
   },
   "outputs": [],
   "source": [
    "from typing import Optional, Mapping\n",
    "\n",
    "@attr.s(auto_attribs=True)\n",
    "class UserInfo:\n",
    "    name: str\n",
    "    email: str\n",
    "    phone: str\n",
    "    creds: Optional[Mapping[str, str]] = None"
   ]
  },
  {
   "cell_type": "code",
   "execution_count": 8,
   "metadata": {
    "slideshow": {
     "slide_type": "slide"
    }
   },
   "outputs": [],
   "source": [
    "@attr.s\n",
    "class UserInfo:\n",
    "    name: str = attr.ib()\n",
    "    email: str = attr.ib()\n",
    "    phone: str = attr.ib()\n",
    "    creds: Mapping[str, str] = attr.ib(factory=dict)"
   ]
  },
  {
   "cell_type": "code",
   "execution_count": 9,
   "metadata": {},
   "outputs": [
    {
     "data": {
      "text/plain": [
       "[UserInfo(name='Alice', email='alice@example.com', phone='581-555-1234', creds={}),\n",
       " UserInfo(name='Bob', email='bob@example.com', phone='416-555-2814', creds={}),\n",
       " UserInfo(name='Eve', email='eve@example.com', phone='613-555-4567', creds={})]"
      ]
     },
     "execution_count": 9,
     "metadata": {},
     "output_type": "execute_result"
    }
   ],
   "source": [
    "alice = UserInfo(\"Alice\", 'alice@example.com', '581-555-1234')\n",
    "bob = UserInfo(name='Bob', email='bob@example.com', phone='416-555-2814')\n",
    "eve = UserInfo(\"Eve\", \"eve@example.com\", phone=\"613-555-4567\")\n",
    "[alice, bob, eve]"
   ]
  },
  {
   "cell_type": "markdown",
   "metadata": {
    "slideshow": {
     "slide_type": "slide"
    }
   },
   "source": [
    "## What else do we get?"
   ]
  },
  {
   "cell_type": "code",
   "execution_count": 10,
   "metadata": {},
   "outputs": [
    {
     "data": {
      "text/plain": [
       "{'name': 'Alice',\n",
       " 'email': 'alice@example.com',\n",
       " 'phone': '581-555-1234',\n",
       " 'creds': {}}"
      ]
     },
     "execution_count": 10,
     "metadata": {},
     "output_type": "execute_result"
    }
   ],
   "source": [
    "adict = attr.asdict(alice)\n",
    "adict"
   ]
  },
  {
   "cell_type": "code",
   "execution_count": 11,
   "metadata": {},
   "outputs": [
    {
     "data": {
      "text/plain": [
       "('Bob', 'bob@example.com')"
      ]
     },
     "execution_count": 11,
     "metadata": {},
     "output_type": "execute_result"
    }
   ],
   "source": [
    "name, email, *_ = attr.astuple(bob)\n",
    "name, email"
   ]
  },
  {
   "cell_type": "code",
   "execution_count": 12,
   "metadata": {},
   "outputs": [
    {
     "data": {
      "text/plain": [
       "[UserInfo(name='Alice', email='alice@example.com', phone='581-555-1234', creds={}),\n",
       " UserInfo(name='Bob', email='bob@example.com', phone='416-555-2814', creds={})]"
      ]
     },
     "execution_count": 12,
     "metadata": {},
     "output_type": "execute_result"
    }
   ],
   "source": [
    "[UserInfo(**adict), UserInfo(*attr.astuple(bob))]"
   ]
  },
  {
   "cell_type": "markdown",
   "metadata": {
    "slideshow": {
     "slide_type": "slide"
    }
   },
   "source": [
    "## Frozen and hashable instances"
   ]
  },
  {
   "cell_type": "code",
   "execution_count": 13,
   "metadata": {},
   "outputs": [],
   "source": [
    "@attr.s(frozen=True)\n",
    "class FrozenUserInfo:\n",
    "    name: str = attr.ib()\n",
    "    email: str = attr.ib()\n",
    "    phone: str = attr.ib()\n",
    "    creds: Mapping[str, str] = attr.ib(factory=dict)"
   ]
  },
  {
   "cell_type": "code",
   "execution_count": 14,
   "metadata": {},
   "outputs": [
    {
     "name": "stderr",
     "output_type": "stream",
     "text": [
      "FrozenInstanceError()\n"
     ]
    }
   ],
   "source": [
    "import sys\n",
    "\n",
    "josh = FrozenUserInfo('Josh', 'josh@example.com', '514-555-8764')\n",
    "try:\n",
    "    josh.name = 'Not Josh'\n",
    "except attr.exceptions.FrozenInstanceError as e:\n",
    "    sys.stderr.write(f\"{e!r}\\n\")"
   ]
  },
  {
   "cell_type": "markdown",
   "metadata": {
    "slideshow": {
     "slide_type": "slide"
    }
   },
   "source": [
    "## Validation and Conversion"
   ]
  },
  {
   "cell_type": "code",
   "execution_count": 15,
   "metadata": {},
   "outputs": [],
   "source": [
    "import re\n",
    "\n",
    "@attr.s\n",
    "class NeatUserInfo:\n",
    "    name: str = attr.ib()\n",
    "    email: str = attr.ib()\n",
    "    phone: str = attr.ib(converter=lambda ph: re.sub(r'[^\\d]+', '', ph))\n",
    "    \n",
    "    @email.validator\n",
    "    def _valid_email(self, _, value):\n",
    "        if '@' not in value:\n",
    "            raise ValueError(\"not a valid email!\")"
   ]
  },
  {
   "cell_type": "code",
   "execution_count": 16,
   "metadata": {},
   "outputs": [
    {
     "name": "stderr",
     "output_type": "stream",
     "text": [
      "ValueError('not a valid email!',)\n"
     ]
    }
   ],
   "source": [
    "try:\n",
    "    NeatUserInfo('Person', 'notemail', '')\n",
    "except Exception as e:\n",
    "    sys.stderr.write(f\"{e!r}\\n\")"
   ]
  },
  {
   "cell_type": "code",
   "execution_count": null,
   "metadata": {},
   "outputs": [],
   "source": [
    "NeatUserInfo('Person', 'an@email.com', '(817) 555-2345')"
   ]
  }
 ],
 "metadata": {
  "celltoolbar": "Slideshow",
  "kernelspec": {
   "display_name": "Python 3",
   "language": "python",
   "name": "python3"
  },
  "language_info": {
   "codemirror_mode": {
    "name": "ipython",
    "version": 3
   },
   "file_extension": ".py",
   "mimetype": "text/x-python",
   "name": "python",
   "nbconvert_exporter": "python",
   "pygments_lexer": "ipython3",
   "version": "3.6.8"
  }
 },
 "nbformat": 4,
 "nbformat_minor": 2
}
